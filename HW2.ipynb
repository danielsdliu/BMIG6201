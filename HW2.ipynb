{
  "nbformat": 4,
  "nbformat_minor": 5,
  "metadata": {
    "kernelspec": {
      "name": "python3",
      "display_name": "Python 3"
    },
    "colab": {
      "name": "HW2.ipynb",
      "provenance": [],
      "collapsed_sections": [],
      "include_colab_link": true
    }
  },
  "cells": [
    {
      "cell_type": "markdown",
      "metadata": {
        "id": "view-in-github",
        "colab_type": "text"
      },
      "source": [
        "<a href=\"https://colab.research.google.com/github/danielsdliu/BMIG6201/blob/main/HW2.ipynb\" target=\"_parent\"><img src=\"https://colab.research.google.com/assets/colab-badge.svg\" alt=\"Open In Colab\"/></a>"
      ]
    },
    {
      "cell_type": "code",
      "metadata": {
        "colab": {
          "base_uri": "https://localhost:8080/"
        },
        "id": "liberal-testament",
        "outputId": "2f733c01-4e59-4d15-ac2d-50eef441d67c"
      },
      "source": [
        "import pandas as pd\n",
        "missing_values=[\"?\"]\n",
        "#import ? as missing value\n",
        "raw_data = pd.read_csv(\"https://github.com/horaciogacevedo/Bmig6201/raw/main/Tests/Auto.data\", sep=\"\\s+\", na_values= missing_values)\n",
        "auto = raw_data\n",
        "#drop rows with missing values\n",
        "auto = auto.dropna(axis=0)\n",
        "#check for missing values\n",
        "auto.isnull().sum()"
      ],
      "id": "liberal-testament",
      "execution_count": 37,
      "outputs": [
        {
          "output_type": "execute_result",
          "data": {
            "text/plain": [
              "mpg             0\n",
              "cylinders       0\n",
              "displacement    0\n",
              "horsepower      0\n",
              "weight          0\n",
              "acceleration    0\n",
              "year            0\n",
              "origin          0\n",
              "name            0\n",
              "dtype: int64"
            ]
          },
          "metadata": {
            "tags": []
          },
          "execution_count": 37
        }
      ]
    },
    {
      "cell_type": "markdown",
      "metadata": {
        "id": "spectacular-arizona"
      },
      "source": [
        "1a. Create a binary variable, mpg01, that contains a 1 if mpg contains a value above its median, and a 0 if mpg containes a value below its median."
      ],
      "id": "spectacular-arizona"
    },
    {
      "cell_type": "code",
      "metadata": {
        "colab": {
          "base_uri": "https://localhost:8080/",
          "height": 521
        },
        "id": "coordinated-reason",
        "outputId": "d15605e6-9f8c-4a5b-f96e-c05a8ca81aa6"
      },
      "source": [
        "import statistics as st\n",
        "\n",
        "def mpg_class(number):\n",
        "    #median mpg = 23.0\n",
        "    if number > st.median(auto[\"mpg\"]):\n",
        "        return 1\n",
        "    else:\n",
        "        return 0\n",
        "    \n",
        "auto[\"mpg01\"] = auto[\"mpg\"].apply(mpg_class)\n",
        "auto"
      ],
      "id": "coordinated-reason",
      "execution_count": 38,
      "outputs": [
        {
          "output_type": "stream",
          "text": [
            "/usr/local/lib/python3.6/dist-packages/ipykernel_launcher.py:10: SettingWithCopyWarning: \n",
            "A value is trying to be set on a copy of a slice from a DataFrame.\n",
            "Try using .loc[row_indexer,col_indexer] = value instead\n",
            "\n",
            "See the caveats in the documentation: https://pandas.pydata.org/pandas-docs/stable/user_guide/indexing.html#returning-a-view-versus-a-copy\n",
            "  # Remove the CWD from sys.path while we load stuff.\n"
          ],
          "name": "stderr"
        },
        {
          "output_type": "execute_result",
          "data": {
            "text/html": [
              "<div>\n",
              "<style scoped>\n",
              "    .dataframe tbody tr th:only-of-type {\n",
              "        vertical-align: middle;\n",
              "    }\n",
              "\n",
              "    .dataframe tbody tr th {\n",
              "        vertical-align: top;\n",
              "    }\n",
              "\n",
              "    .dataframe thead th {\n",
              "        text-align: right;\n",
              "    }\n",
              "</style>\n",
              "<table border=\"1\" class=\"dataframe\">\n",
              "  <thead>\n",
              "    <tr style=\"text-align: right;\">\n",
              "      <th></th>\n",
              "      <th>mpg</th>\n",
              "      <th>cylinders</th>\n",
              "      <th>displacement</th>\n",
              "      <th>horsepower</th>\n",
              "      <th>weight</th>\n",
              "      <th>acceleration</th>\n",
              "      <th>year</th>\n",
              "      <th>origin</th>\n",
              "      <th>name</th>\n",
              "      <th>mpg01</th>\n",
              "    </tr>\n",
              "  </thead>\n",
              "  <tbody>\n",
              "    <tr>\n",
              "      <th>0</th>\n",
              "      <td>18.0</td>\n",
              "      <td>8</td>\n",
              "      <td>307.0</td>\n",
              "      <td>130.0</td>\n",
              "      <td>3504.0</td>\n",
              "      <td>12.0</td>\n",
              "      <td>70</td>\n",
              "      <td>1</td>\n",
              "      <td>chevrolet chevelle malibu</td>\n",
              "      <td>0</td>\n",
              "    </tr>\n",
              "    <tr>\n",
              "      <th>1</th>\n",
              "      <td>15.0</td>\n",
              "      <td>8</td>\n",
              "      <td>350.0</td>\n",
              "      <td>165.0</td>\n",
              "      <td>3693.0</td>\n",
              "      <td>11.5</td>\n",
              "      <td>70</td>\n",
              "      <td>1</td>\n",
              "      <td>buick skylark 320</td>\n",
              "      <td>0</td>\n",
              "    </tr>\n",
              "    <tr>\n",
              "      <th>2</th>\n",
              "      <td>18.0</td>\n",
              "      <td>8</td>\n",
              "      <td>318.0</td>\n",
              "      <td>150.0</td>\n",
              "      <td>3436.0</td>\n",
              "      <td>11.0</td>\n",
              "      <td>70</td>\n",
              "      <td>1</td>\n",
              "      <td>plymouth satellite</td>\n",
              "      <td>0</td>\n",
              "    </tr>\n",
              "    <tr>\n",
              "      <th>3</th>\n",
              "      <td>16.0</td>\n",
              "      <td>8</td>\n",
              "      <td>304.0</td>\n",
              "      <td>150.0</td>\n",
              "      <td>3433.0</td>\n",
              "      <td>12.0</td>\n",
              "      <td>70</td>\n",
              "      <td>1</td>\n",
              "      <td>amc rebel sst</td>\n",
              "      <td>0</td>\n",
              "    </tr>\n",
              "    <tr>\n",
              "      <th>4</th>\n",
              "      <td>17.0</td>\n",
              "      <td>8</td>\n",
              "      <td>302.0</td>\n",
              "      <td>140.0</td>\n",
              "      <td>3449.0</td>\n",
              "      <td>10.5</td>\n",
              "      <td>70</td>\n",
              "      <td>1</td>\n",
              "      <td>ford torino</td>\n",
              "      <td>0</td>\n",
              "    </tr>\n",
              "    <tr>\n",
              "      <th>...</th>\n",
              "      <td>...</td>\n",
              "      <td>...</td>\n",
              "      <td>...</td>\n",
              "      <td>...</td>\n",
              "      <td>...</td>\n",
              "      <td>...</td>\n",
              "      <td>...</td>\n",
              "      <td>...</td>\n",
              "      <td>...</td>\n",
              "      <td>...</td>\n",
              "    </tr>\n",
              "    <tr>\n",
              "      <th>392</th>\n",
              "      <td>27.0</td>\n",
              "      <td>4</td>\n",
              "      <td>140.0</td>\n",
              "      <td>86.0</td>\n",
              "      <td>2790.0</td>\n",
              "      <td>15.6</td>\n",
              "      <td>82</td>\n",
              "      <td>1</td>\n",
              "      <td>ford mustang gl</td>\n",
              "      <td>1</td>\n",
              "    </tr>\n",
              "    <tr>\n",
              "      <th>393</th>\n",
              "      <td>44.0</td>\n",
              "      <td>4</td>\n",
              "      <td>97.0</td>\n",
              "      <td>52.0</td>\n",
              "      <td>2130.0</td>\n",
              "      <td>24.6</td>\n",
              "      <td>82</td>\n",
              "      <td>2</td>\n",
              "      <td>vw pickup</td>\n",
              "      <td>1</td>\n",
              "    </tr>\n",
              "    <tr>\n",
              "      <th>394</th>\n",
              "      <td>32.0</td>\n",
              "      <td>4</td>\n",
              "      <td>135.0</td>\n",
              "      <td>84.0</td>\n",
              "      <td>2295.0</td>\n",
              "      <td>11.6</td>\n",
              "      <td>82</td>\n",
              "      <td>1</td>\n",
              "      <td>dodge rampage</td>\n",
              "      <td>1</td>\n",
              "    </tr>\n",
              "    <tr>\n",
              "      <th>395</th>\n",
              "      <td>28.0</td>\n",
              "      <td>4</td>\n",
              "      <td>120.0</td>\n",
              "      <td>79.0</td>\n",
              "      <td>2625.0</td>\n",
              "      <td>18.6</td>\n",
              "      <td>82</td>\n",
              "      <td>1</td>\n",
              "      <td>ford ranger</td>\n",
              "      <td>1</td>\n",
              "    </tr>\n",
              "    <tr>\n",
              "      <th>396</th>\n",
              "      <td>31.0</td>\n",
              "      <td>4</td>\n",
              "      <td>119.0</td>\n",
              "      <td>82.0</td>\n",
              "      <td>2720.0</td>\n",
              "      <td>19.4</td>\n",
              "      <td>82</td>\n",
              "      <td>1</td>\n",
              "      <td>chevy s-10</td>\n",
              "      <td>1</td>\n",
              "    </tr>\n",
              "  </tbody>\n",
              "</table>\n",
              "<p>392 rows × 10 columns</p>\n",
              "</div>"
            ],
            "text/plain": [
              "      mpg  cylinders  displacement  ...  origin                       name  mpg01\n",
              "0    18.0          8         307.0  ...       1  chevrolet chevelle malibu      0\n",
              "1    15.0          8         350.0  ...       1          buick skylark 320      0\n",
              "2    18.0          8         318.0  ...       1         plymouth satellite      0\n",
              "3    16.0          8         304.0  ...       1              amc rebel sst      0\n",
              "4    17.0          8         302.0  ...       1                ford torino      0\n",
              "..    ...        ...           ...  ...     ...                        ...    ...\n",
              "392  27.0          4         140.0  ...       1            ford mustang gl      1\n",
              "393  44.0          4          97.0  ...       2                  vw pickup      1\n",
              "394  32.0          4         135.0  ...       1              dodge rampage      1\n",
              "395  28.0          4         120.0  ...       1                ford ranger      1\n",
              "396  31.0          4         119.0  ...       1                 chevy s-10      1\n",
              "\n",
              "[392 rows x 10 columns]"
            ]
          },
          "metadata": {
            "tags": []
          },
          "execution_count": 38
        }
      ]
    },
    {
      "cell_type": "markdown",
      "metadata": {
        "id": "aware-nashville"
      },
      "source": [
        "1b. Explore the data graphically in order to investigate the associate between mpg01 and the other features using scatterplots and boxplots. Describe your ﬁndings."
      ],
      "id": "aware-nashville"
    },
    {
      "cell_type": "code",
      "metadata": {
        "colab": {
          "base_uri": "https://localhost:8080/",
          "height": 279
        },
        "id": "handy-toilet",
        "outputId": "a3fc8ab3-9444-49ca-b6c1-4e64dfa63534"
      },
      "source": [
        "import seaborn as sb\n",
        "import matplotlib.pyplot as plt\n",
        "cyls = sb.violinplot(x=\"cylinders\", y=\"mpg01\", data=auto)"
      ],
      "id": "handy-toilet",
      "execution_count": 39,
      "outputs": [
        {
          "output_type": "display_data",
          "data": {
            "image/png": "[encoded data removed]",
            "text/plain": [
              "<Figure size 432x288 with 1 Axes>"
            ]
          },
          "metadata": {
            "tags": [],
            "needs_background": "light"
          }
        }
      ]
    },
    {
      "cell_type": "markdown",
      "metadata": {
        "id": "fossil-scroll"
      },
      "source": [
        "Higher cylinders are more likely to below the median mpg. 3 and 5 cylinder cars are pretty rare compared to 4, 6, 8."
      ],
      "id": "fossil-scroll"
    },
    {
      "cell_type": "code",
      "metadata": {
        "colab": {
          "base_uri": "https://localhost:8080/",
          "height": 279
        },
        "id": "vital-hostel",
        "outputId": "6ead28be-6905-4302-87d0-ff5614814c4a"
      },
      "source": [
        "disp = sb.scatterplot(x=\"displacement\", y=\"mpg\", hue=\"mpg01\", data=auto)"
      ],
      "id": "vital-hostel",
      "execution_count": 40,
      "outputs": [
        {
          "output_type": "display_data",
          "data": {
            "image/png": "[encoded data removed]",
            "text/plain": [
              "<Figure size 432x288 with 1 Axes>"
            ]
          },
          "metadata": {
            "tags": [],
            "needs_background": "light"
          }
        }
      ]
    },
    {
      "cell_type": "markdown",
      "metadata": {
        "id": "alleged-humanity"
      },
      "source": [
        "Smaller displacement is more likely to be below the median mpg"
      ],
      "id": "alleged-humanity"
    },
    {
      "cell_type": "code",
      "metadata": {
        "colab": {
          "base_uri": "https://localhost:8080/",
          "height": 279
        },
        "id": "international-prescription",
        "outputId": "c2a1ed32-ba44-4163-ba61-bb611fa620ed"
      },
      "source": [
        "hp = sb.scatterplot(x=\"horsepower\", y=\"mpg\", hue=\"mpg01\", data=auto)"
      ],
      "id": "international-prescription",
      "execution_count": 41,
      "outputs": [
        {
          "output_type": "display_data",
          "data": {
            "image/png": "[encoded data removed]",
            "text/plain": [
              "<Figure size 432x288 with 1 Axes>"
            ]
          },
          "metadata": {
            "tags": [],
            "needs_background": "light"
          }
        }
      ]
    },
    {
      "cell_type": "markdown",
      "metadata": {
        "id": "animal-promotion"
      },
      "source": [
        "If your under median mpg, you're more likely to have less horsepower."
      ],
      "id": "animal-promotion"
    },
    {
      "cell_type": "code",
      "metadata": {
        "colab": {
          "base_uri": "https://localhost:8080/",
          "height": 279
        },
        "id": "sharing-jacksonville",
        "outputId": "39b4aa90-b480-44c6-f27a-f4fee2573d38"
      },
      "source": [
        "weight = sb.scatterplot(x=\"weight\", y=\"mpg\", hue=\"mpg01\", data=auto)"
      ],
      "id": "sharing-jacksonville",
      "execution_count": 42,
      "outputs": [
        {
          "output_type": "display_data",
          "data": {
            "image/png": "[encoded data removed]",
            "text/plain": [
              "<Figure size 432x288 with 1 Axes>"
            ]
          },
          "metadata": {
            "tags": [],
            "needs_background": "light"
          }
        }
      ]
    },
    {
      "cell_type": "markdown",
      "metadata": {
        "id": "expensive-yugoslavia"
      },
      "source": [
        "the heavier the car, the worse the mpg."
      ],
      "id": "expensive-yugoslavia"
    },
    {
      "cell_type": "code",
      "metadata": {
        "colab": {
          "base_uri": "https://localhost:8080/",
          "height": 279
        },
        "id": "bigger-fruit",
        "outputId": "25f8ad97-36dc-421a-c89a-07f2f3f9f141"
      },
      "source": [
        "accel = sb.scatterplot(x=\"acceleration\", y=\"mpg\", hue=\"mpg01\", data=auto)"
      ],
      "id": "bigger-fruit",
      "execution_count": 43,
      "outputs": [
        {
          "output_type": "display_data",
          "data": {
            "image/png": "[encoded data removed]",
            "text/plain": [
              "<Figure size 432x288 with 1 Axes>"
            ]
          },
          "metadata": {
            "tags": [],
            "needs_background": "light"
          }
        }
      ]
    },
    {
      "cell_type": "markdown",
      "metadata": {
        "id": "continental-boston"
      },
      "source": [
        "The lower the acceleration, the worse your mpg (most likely related to weight)"
      ],
      "id": "continental-boston"
    },
    {
      "cell_type": "code",
      "metadata": {
        "colab": {
          "base_uri": "https://localhost:8080/",
          "height": 334
        },
        "id": "encouraging-hebrew",
        "outputId": "a7134682-7130-45d9-e664-50d4418af0fe"
      },
      "source": [
        "plt.figure(figsize=(18,5))\n",
        "yr = sb.violinplot(x=\"year\", y=\"mpg01\", data=auto)"
      ],
      "id": "encouraging-hebrew",
      "execution_count": 44,
      "outputs": [
        {
          "output_type": "display_data",
          "data": {
            "image/png": "[encoded data removed]",
            "text/plain": [
              "<Figure size 1296x360 with 1 Axes>"
            ]
          },
          "metadata": {
            "tags": [],
            "needs_background": "light"
          }
        }
      ]
    },
    {
      "cell_type": "markdown",
      "metadata": {
        "id": "christian-pleasure"
      },
      "source": [
        "The mpg improved as the years went on."
      ],
      "id": "christian-pleasure"
    },
    {
      "cell_type": "code",
      "metadata": {
        "colab": {
          "base_uri": "https://localhost:8080/",
          "height": 279
        },
        "id": "considerable-stake",
        "outputId": "37cb245f-52f9-4575-e45e-1544ddba7585"
      },
      "source": [
        "orig = sb.violinplot(x=\"origin\", y=\"mpg01\", data=auto)"
      ],
      "id": "considerable-stake",
      "execution_count": 45,
      "outputs": [
        {
          "output_type": "display_data",
          "data": {
            "image/png": "[encoded data removed]",
            "text/plain": [
              "<Figure size 432x288 with 1 Axes>"
            ]
          },
          "metadata": {
            "tags": [],
            "needs_background": "light"
          }
        }
      ]
    },
    {
      "cell_type": "markdown",
      "metadata": {
        "id": "atlantic-prime"
      },
      "source": [
        "Cars from regions 2 and 3 are more likely to have better mpg than region 1"
      ],
      "id": "atlantic-prime"
    },
    {
      "cell_type": "markdown",
      "metadata": {
        "id": "ignored-arkansas"
      },
      "source": [
        "1c. Split the data into a training set and a test set."
      ],
      "id": "ignored-arkansas"
    },
    {
      "cell_type": "code",
      "metadata": {
        "id": "governing-gabriel"
      },
      "source": [
        "import numpy as np\n",
        "from sklearn.model_selection import train_test_split\n",
        "from sklearn import preprocessing\n",
        "\n",
        "X = auto.drop([\"mpg\", \"mpg01\", \"name\"], axis=1)\n",
        "scaler = preprocessing.StandardScaler().fit(X)\n",
        "X_scaled = scaler.transform(X)\n",
        "X_scaled_b = X_scaled\n",
        "y = auto[\"mpg01\"]\n",
        "X_train, X_test, y_train, y_test = train_test_split(X_scaled, y, test_size = 0.2, random_state=7)"
      ],
      "id": "governing-gabriel",
      "execution_count": 46,
      "outputs": []
    },
    {
      "cell_type": "markdown",
      "metadata": {
        "id": "accepted-comfort"
      },
      "source": [
        "1d. Perform logistic regression on the training data in order to predict mpg01 using the variables that seemed most associated with mpg01. Calculate the test error of the model obtained"
      ],
      "id": "accepted-comfort"
    },
    {
      "cell_type": "code",
      "metadata": {
        "colab": {
          "base_uri": "https://localhost:8080/"
        },
        "id": "black-tomato",
        "outputId": "bf285cf5-bbd2-4273-ccef-4eaee8ef9b93"
      },
      "source": [
        "from sklearn.linear_model import LogisticRegression\n",
        "from sklearn import linear_model\n",
        "log_reg = LogisticRegression(fit_intercept=True)\n",
        "log_reg.fit(X_train, y_train)"
      ],
      "id": "black-tomato",
      "execution_count": 47,
      "outputs": [
        {
          "output_type": "execute_result",
          "data": {
            "text/plain": [
              "LogisticRegression(C=1.0, class_weight=None, dual=False, fit_intercept=True,\n",
              "                   intercept_scaling=1, l1_ratio=None, max_iter=100,\n",
              "                   multi_class='auto', n_jobs=None, penalty='l2',\n",
              "                   random_state=None, solver='lbfgs', tol=0.0001, verbose=0,\n",
              "                   warm_start=False)"
            ]
          },
          "metadata": {
            "tags": []
          },
          "execution_count": 47
        }
      ]
    },
    {
      "cell_type": "code",
      "metadata": {
        "colab": {
          "base_uri": "https://localhost:8080/"
        },
        "id": "aware-trinidad",
        "outputId": "3e7fb5f3-7ade-45cd-b1d4-985918889b8d"
      },
      "source": [
        "y_pred=log_reg.predict(X_test)\n",
        "\n",
        "from sklearn.metrics import mean_squared_error\n",
        "\n",
        "mean_squared_error(y_test, y_pred)"
      ],
      "id": "aware-trinidad",
      "execution_count": 48,
      "outputs": [
        {
          "output_type": "execute_result",
          "data": {
            "text/plain": [
              "0.11392405063291139"
            ]
          },
          "metadata": {
            "tags": []
          },
          "execution_count": 48
        }
      ]
    },
    {
      "cell_type": "markdown",
      "metadata": {
        "id": "photographic-communication"
      },
      "source": [
        "1e. Fit a support vector classiﬁer to the data with various values of cost, in order to predict whether a car gets high or low gas milage. Report the cross-validation error associated with diﬀerent values of this parameter."
      ],
      "id": "photographic-communication"
    },
    {
      "cell_type": "code",
      "metadata": {
        "colab": {
          "base_uri": "https://localhost:8080/"
        },
        "id": "young-links",
        "outputId": "98dbb2f4-8985-4763-92ab-582b06d921cf"
      },
      "source": [
        "from sklearn.pipeline import Pipeline\n",
        "from sklearn.svm import LinearSVC\n",
        "\n",
        "svm_clf05 = Pipeline([(\"linear_svc\", LinearSVC(C=0.5, max_iter=10000))])\n",
        "svm_clf1 = Pipeline([(\"linear_svc\", LinearSVC(C=1, max_iter=10000))])\n",
        "svm_clf2 = Pipeline([(\"linear_svc\", LinearSVC(C=2, max_iter=10000))])\n",
        "svm_clf25 = Pipeline([(\"linear_svc\", LinearSVC(C=0.25, max_iter=10000))])\n",
        "\n",
        "svm_clf05.fit(X_train,y_train)\n",
        "svm_clf1.fit(X_train,y_train)\n",
        "svm_clf2.fit(X_train,y_train)\n",
        "svm_clf25.fit(X_train,y_train)\n"
      ],
      "id": "young-links",
      "execution_count": 49,
      "outputs": [
        {
          "output_type": "execute_result",
          "data": {
            "text/plain": [
              "Pipeline(memory=None,\n",
              "         steps=[('linear_svc',\n",
              "                 LinearSVC(C=0.25, class_weight=None, dual=True,\n",
              "                           fit_intercept=True, intercept_scaling=1,\n",
              "                           loss='squared_hinge', max_iter=10000,\n",
              "                           multi_class='ovr', penalty='l2', random_state=None,\n",
              "                           tol=0.0001, verbose=0))],\n",
              "         verbose=False)"
            ]
          },
          "metadata": {
            "tags": []
          },
          "execution_count": 49
        }
      ]
    },
    {
      "cell_type": "code",
      "metadata": {
        "id": "friendly-surname"
      },
      "source": [
        "from sklearn.model_selection import cross_val_score\n",
        "\n",
        "score05 = cross_val_score(svm_clf05, X_train, y_train, cv=5)\n",
        "score1 = cross_val_score(svm_clf1, X_train, y_train, cv=5)\n",
        "score2 = cross_val_score(svm_clf2, X_train, y_train, cv=5)\n",
        "score25 = cross_val_score(svm_clf25, X_train, y_train, cv=5)"
      ],
      "id": "friendly-surname",
      "execution_count": 50,
      "outputs": []
    },
    {
      "cell_type": "code",
      "metadata": {
        "id": "unique-border",
        "colab": {
          "base_uri": "https://localhost:8080/"
        },
        "outputId": "7b940a51-78f0-4ea3-a4a7-3efbc747791f"
      },
      "source": [
        "print(\"c = 0.5: accuracy: %0.3f stdev: %0.3f \\nc = 1: accuracy: %0.3f stdev: %0.3f \\nc = 2: accuracy: %0.3f stdev: %0.3f \\nc = 0.25: accuracy: %0.3f stdev: %0.3f \" \n",
        "      % (score05.mean(), score05.std(), score1.mean(), score1.std(), score2.mean(), score2.std(), score25.mean(), score25.std()))"
      ],
      "id": "unique-border",
      "execution_count": 51,
      "outputs": [
        {
          "output_type": "stream",
          "text": [
            "c = 0.5: accuracy: 0.904 stdev: 0.028 \n",
            "c = 1: accuracy: 0.904 stdev: 0.028 \n",
            "c = 2: accuracy: 0.904 stdev: 0.028 \n",
            "c = 0.25: accuracy: 0.911 stdev: 0.024 \n"
          ],
          "name": "stdout"
        }
      ]
    },
    {
      "cell_type": "markdown",
      "metadata": {
        "id": "rgsM5Q_3EmOa"
      },
      "source": [
        "1f. Repeat the previous item but this time using SVMs with radial and polynomial basis kernels with diﬀerent values of gamma and degree and costs."
      ],
      "id": "rgsM5Q_3EmOa"
    },
    {
      "cell_type": "code",
      "metadata": {
        "id": "AJtJwsxK2ek8"
      },
      "source": [
        "from sklearn.svm import SVC\n",
        "\n",
        "svm_poly1_3 = SVC(kernel=\"poly\", degree=3, gamma=\"scale\", C = 1)\n",
        "svm_poly2_3 = SVC(kernel=\"poly\", degree=3, gamma=\"scale\", C = 2)\n",
        "svm_poly25_3 = SVC(kernel=\"poly\", degree=3, gamma=\"scale\", C = 0.25)\n",
        "svm_poly1_3_g = SVC(kernel=\"poly\", degree=3, gamma=\"auto\", C = 1)\n",
        "svm_poly1_2 = SVC(kernel=\"poly\", degree=2, gamma=\"scale\", C = 1)\n",
        "svm_rbf1 = SVC(kernel=\"rbf\", gamma=\"scale\", C = 1)\n",
        "svm_rbf2 = SVC(kernel=\"rbf\", gamma=\"scale\", C = 2)\n",
        "svm_rbf25 = SVC(kernel=\"rbf\", gamma=\"scale\", C = 0.25)\n",
        "svm_rbf1_g = SVC(kernel=\"rbf\", gamma=\"auto\", C = 1)\n",
        "\n",
        "\n",
        "svm_poly1_3.fit(X_train,y_train)\n",
        "svm_poly2_3.fit(X_train,y_train)\n",
        "svm_poly25_3.fit(X_train,y_train)\n",
        "svm_poly1_3_g.fit(X_train,y_train)\n",
        "svm_poly1_2.fit(X_train,y_train)\n",
        "svm_rbf1.fit(X_train,y_train)\n",
        "svm_rbf2.fit(X_train,y_train)\n",
        "svm_rbf25.fit(X_train,y_train)\n",
        "svm_rbf1_g.fit(X_train,y_train)\n",
        "\n",
        "from sklearn.model_selection import cross_val_score\n",
        "\n",
        "scorep13 = cross_val_score(svm_poly1_3, X_train, y_train, cv=5)\n",
        "scorep23 = cross_val_score(svm_poly2_3, X_train, y_train, cv=5)\n",
        "scorep253 = cross_val_score(svm_poly25_3, X_train, y_train, cv=5)\n",
        "scorep13g = cross_val_score(svm_poly1_3_g, X_train, y_train, cv=5)\n",
        "scorep12 = cross_val_score(svm_poly1_2, X_train, y_train, cv=5)\n",
        "scorer1 = cross_val_score(svm_rbf1, X_train, y_train, cv=5)\n",
        "scorer2 = cross_val_score(svm_rbf2, X_train, y_train, cv=5)\n",
        "scorer25 = cross_val_score(svm_rbf25, X_train, y_train, cv=5)\n",
        "scorer1g = cross_val_score(svm_rbf1_g, X_train, y_train, cv=5)"
      ],
      "id": "AJtJwsxK2ek8",
      "execution_count": 57,
      "outputs": []
    },
    {
      "cell_type": "code",
      "metadata": {
        "colab": {
          "base_uri": "https://localhost:8080/"
        },
        "id": "ACPVk61NJYHL",
        "outputId": "545fd0db-0792-4e96-c659-e86818ba08ca"
      },
      "source": [
        "print(\"c = 1, degree = 3, gamma = scale: accuracy: %0.3f stdev: %0.3f\" % (scorep13.mean(), scorep13.std()))\n",
        "print(\"c = 2, degree = 3, gamma = scale: accuracy: %0.3f stdev: %0.3f\" % (scorep23.mean(), scorep23.std()))\n",
        "print(\"c = 0.25, degree = 3, gamma = scale: accuracy: %0.3f stdev: %0.3f\" % (scorep253.mean(), scorep253.std()))\n",
        "print(\"c = 1, degree = 3, gamma = auto: accuracy: %0.3f stdev: %0.3f\" % (scorep13g.mean(), scorep13g.std()))\n",
        "print(\"c = 1, degree = 2, gamma = scale: accuracy: %0.3f stdev: %0.3f\" % (scorep12.mean(), scorep12.std()))\n",
        "print(\"c = 1, rbf, gamma = scale: accuracy: %0.3f stdev: %0.3f\" % (scorer1.mean(), scorer1.std()))\n",
        "print(\"c = 2, rbf, gamma = scale: accuracy: %0.3f stdev: %0.3f\" % (scorer2.mean(), scorer2.std()))\n",
        "print(\"c = 0.25, rbf, gamma = scale: accuracy: %0.3f stdev: %0.3f\" % (scorer25.mean(), scorer25.std()))\n",
        "print(\"c = 1, rbf, gamma = auto: accuracy: %0.3f stdev: %0.3f\" % (scorer1g.mean(), scorer1g.std()))"
      ],
      "id": "ACPVk61NJYHL",
      "execution_count": 58,
      "outputs": [
        {
          "output_type": "stream",
          "text": [
            "c = 1, degree = 3, gamma = scale: accuracy: 0.888 stdev: 0.028\n",
            "c = 2, degree = 3, gamma = scale: accuracy: 0.891 stdev: 0.029\n",
            "c = 0.25, degree = 3, gamma = scale: accuracy: 0.901 stdev: 0.027\n",
            "c = 1, degree = 3, gamma = auto: accuracy: 0.891 stdev: 0.031\n",
            "c = 1, degree = 2, gamma = scale: accuracy: 0.796 stdev: 0.026\n",
            "c = 1, rbf, gamma = scale: accuracy: 0.920 stdev: 0.030\n",
            "c = 2, rbf, gamma = scale: accuracy: 0.917 stdev: 0.034\n",
            "c = 0.25, rbf, gamma = scale: accuracy: 0.907 stdev: 0.032\n",
            "c = 1, rbf, gamma = auto: accuracy: 0.920 stdev: 0.030\n"
          ],
          "name": "stdout"
        }
      ]
    },
    {
      "cell_type": "markdown",
      "metadata": {
        "id": "5RP7lKpOJsGj"
      },
      "source": [
        "2. Using the College data set, provide a solution for the following questions\n",
        "\n",
        "   (a) Split the data set into a training set and a test set."
      ],
      "id": "5RP7lKpOJsGj"
    },
    {
      "cell_type": "code",
      "metadata": {
        "id": "handmade-standing",
        "colab": {
          "base_uri": "https://localhost:8080/",
          "height": 419
        },
        "outputId": "01088905-3b77-4421-82a3-c047057da0e7"
      },
      "source": [
        "data2 = pd.read_csv(\"https://github.com/horaciogacevedo/Bmig6201/raw/main/Tests/College.csv\", index_col=[0])\n",
        "college = data2\n",
        "college"
      ],
      "id": "handmade-standing",
      "execution_count": 68,
      "outputs": [
        {
          "output_type": "execute_result",
          "data": {
            "text/html": [
              "<div>\n",
              "<style scoped>\n",
              "    .dataframe tbody tr th:only-of-type {\n",
              "        vertical-align: middle;\n",
              "    }\n",
              "\n",
              "    .dataframe tbody tr th {\n",
              "        vertical-align: top;\n",
              "    }\n",
              "\n",
              "    .dataframe thead th {\n",
              "        text-align: right;\n",
              "    }\n",
              "</style>\n",
              "<table border=\"1\" class=\"dataframe\">\n",
              "  <thead>\n",
              "    <tr style=\"text-align: right;\">\n",
              "      <th></th>\n",
              "      <th>Private</th>\n",
              "      <th>Apps</th>\n",
              "      <th>Accept</th>\n",
              "      <th>Enroll</th>\n",
              "      <th>Top10perc</th>\n",
              "      <th>Top25perc</th>\n",
              "      <th>F.Undergrad</th>\n",
              "      <th>P.Undergrad</th>\n",
              "      <th>Outstate</th>\n",
              "      <th>Room.Board</th>\n",
              "      <th>Books</th>\n",
              "      <th>Personal</th>\n",
              "      <th>PhD</th>\n",
              "      <th>Terminal</th>\n",
              "      <th>S.F.Ratio</th>\n",
              "      <th>perc.alumni</th>\n",
              "      <th>Expend</th>\n",
              "      <th>Grad.Rate</th>\n",
              "    </tr>\n",
              "  </thead>\n",
              "  <tbody>\n",
              "    <tr>\n",
              "      <th>Abilene Christian University</th>\n",
              "      <td>Yes</td>\n",
              "      <td>1660</td>\n",
              "      <td>1232</td>\n",
              "      <td>721</td>\n",
              "      <td>23</td>\n",
              "      <td>52</td>\n",
              "      <td>2885</td>\n",
              "      <td>537</td>\n",
              "      <td>7440</td>\n",
              "      <td>3300</td>\n",
              "      <td>450</td>\n",
              "      <td>2200</td>\n",
              "      <td>70</td>\n",
              "      <td>78</td>\n",
              "      <td>18.1</td>\n",
              "      <td>12</td>\n",
              "      <td>7041</td>\n",
              "      <td>60</td>\n",
              "    </tr>\n",
              "    <tr>\n",
              "      <th>Adelphi University</th>\n",
              "      <td>Yes</td>\n",
              "      <td>2186</td>\n",
              "      <td>1924</td>\n",
              "      <td>512</td>\n",
              "      <td>16</td>\n",
              "      <td>29</td>\n",
              "      <td>2683</td>\n",
              "      <td>1227</td>\n",
              "      <td>12280</td>\n",
              "      <td>6450</td>\n",
              "      <td>750</td>\n",
              "      <td>1500</td>\n",
              "      <td>29</td>\n",
              "      <td>30</td>\n",
              "      <td>12.2</td>\n",
              "      <td>16</td>\n",
              "      <td>10527</td>\n",
              "      <td>56</td>\n",
              "    </tr>\n",
              "    <tr>\n",
              "      <th>Adrian College</th>\n",
              "      <td>Yes</td>\n",
              "      <td>1428</td>\n",
              "      <td>1097</td>\n",
              "      <td>336</td>\n",
              "      <td>22</td>\n",
              "      <td>50</td>\n",
              "      <td>1036</td>\n",
              "      <td>99</td>\n",
              "      <td>11250</td>\n",
              "      <td>3750</td>\n",
              "      <td>400</td>\n",
              "      <td>1165</td>\n",
              "      <td>53</td>\n",
              "      <td>66</td>\n",
              "      <td>12.9</td>\n",
              "      <td>30</td>\n",
              "      <td>8735</td>\n",
              "      <td>54</td>\n",
              "    </tr>\n",
              "    <tr>\n",
              "      <th>Agnes Scott College</th>\n",
              "      <td>Yes</td>\n",
              "      <td>417</td>\n",
              "      <td>349</td>\n",
              "      <td>137</td>\n",
              "      <td>60</td>\n",
              "      <td>89</td>\n",
              "      <td>510</td>\n",
              "      <td>63</td>\n",
              "      <td>12960</td>\n",
              "      <td>5450</td>\n",
              "      <td>450</td>\n",
              "      <td>875</td>\n",
              "      <td>92</td>\n",
              "      <td>97</td>\n",
              "      <td>7.7</td>\n",
              "      <td>37</td>\n",
              "      <td>19016</td>\n",
              "      <td>59</td>\n",
              "    </tr>\n",
              "    <tr>\n",
              "      <th>Alaska Pacific University</th>\n",
              "      <td>Yes</td>\n",
              "      <td>193</td>\n",
              "      <td>146</td>\n",
              "      <td>55</td>\n",
              "      <td>16</td>\n",
              "      <td>44</td>\n",
              "      <td>249</td>\n",
              "      <td>869</td>\n",
              "      <td>7560</td>\n",
              "      <td>4120</td>\n",
              "      <td>800</td>\n",
              "      <td>1500</td>\n",
              "      <td>76</td>\n",
              "      <td>72</td>\n",
              "      <td>11.9</td>\n",
              "      <td>2</td>\n",
              "      <td>10922</td>\n",
              "      <td>15</td>\n",
              "    </tr>\n",
              "    <tr>\n",
              "      <th>...</th>\n",
              "      <td>...</td>\n",
              "      <td>...</td>\n",
              "      <td>...</td>\n",
              "      <td>...</td>\n",
              "      <td>...</td>\n",
              "      <td>...</td>\n",
              "      <td>...</td>\n",
              "      <td>...</td>\n",
              "      <td>...</td>\n",
              "      <td>...</td>\n",
              "      <td>...</td>\n",
              "      <td>...</td>\n",
              "      <td>...</td>\n",
              "      <td>...</td>\n",
              "      <td>...</td>\n",
              "      <td>...</td>\n",
              "      <td>...</td>\n",
              "      <td>...</td>\n",
              "    </tr>\n",
              "    <tr>\n",
              "      <th>Worcester State College</th>\n",
              "      <td>No</td>\n",
              "      <td>2197</td>\n",
              "      <td>1515</td>\n",
              "      <td>543</td>\n",
              "      <td>4</td>\n",
              "      <td>26</td>\n",
              "      <td>3089</td>\n",
              "      <td>2029</td>\n",
              "      <td>6797</td>\n",
              "      <td>3900</td>\n",
              "      <td>500</td>\n",
              "      <td>1200</td>\n",
              "      <td>60</td>\n",
              "      <td>60</td>\n",
              "      <td>21.0</td>\n",
              "      <td>14</td>\n",
              "      <td>4469</td>\n",
              "      <td>40</td>\n",
              "    </tr>\n",
              "    <tr>\n",
              "      <th>Xavier University</th>\n",
              "      <td>Yes</td>\n",
              "      <td>1959</td>\n",
              "      <td>1805</td>\n",
              "      <td>695</td>\n",
              "      <td>24</td>\n",
              "      <td>47</td>\n",
              "      <td>2849</td>\n",
              "      <td>1107</td>\n",
              "      <td>11520</td>\n",
              "      <td>4960</td>\n",
              "      <td>600</td>\n",
              "      <td>1250</td>\n",
              "      <td>73</td>\n",
              "      <td>75</td>\n",
              "      <td>13.3</td>\n",
              "      <td>31</td>\n",
              "      <td>9189</td>\n",
              "      <td>83</td>\n",
              "    </tr>\n",
              "    <tr>\n",
              "      <th>Xavier University of Louisiana</th>\n",
              "      <td>Yes</td>\n",
              "      <td>2097</td>\n",
              "      <td>1915</td>\n",
              "      <td>695</td>\n",
              "      <td>34</td>\n",
              "      <td>61</td>\n",
              "      <td>2793</td>\n",
              "      <td>166</td>\n",
              "      <td>6900</td>\n",
              "      <td>4200</td>\n",
              "      <td>617</td>\n",
              "      <td>781</td>\n",
              "      <td>67</td>\n",
              "      <td>75</td>\n",
              "      <td>14.4</td>\n",
              "      <td>20</td>\n",
              "      <td>8323</td>\n",
              "      <td>49</td>\n",
              "    </tr>\n",
              "    <tr>\n",
              "      <th>Yale University</th>\n",
              "      <td>Yes</td>\n",
              "      <td>10705</td>\n",
              "      <td>2453</td>\n",
              "      <td>1317</td>\n",
              "      <td>95</td>\n",
              "      <td>99</td>\n",
              "      <td>5217</td>\n",
              "      <td>83</td>\n",
              "      <td>19840</td>\n",
              "      <td>6510</td>\n",
              "      <td>630</td>\n",
              "      <td>2115</td>\n",
              "      <td>96</td>\n",
              "      <td>96</td>\n",
              "      <td>5.8</td>\n",
              "      <td>49</td>\n",
              "      <td>40386</td>\n",
              "      <td>99</td>\n",
              "    </tr>\n",
              "    <tr>\n",
              "      <th>York College of Pennsylvania</th>\n",
              "      <td>Yes</td>\n",
              "      <td>2989</td>\n",
              "      <td>1855</td>\n",
              "      <td>691</td>\n",
              "      <td>28</td>\n",
              "      <td>63</td>\n",
              "      <td>2988</td>\n",
              "      <td>1726</td>\n",
              "      <td>4990</td>\n",
              "      <td>3560</td>\n",
              "      <td>500</td>\n",
              "      <td>1250</td>\n",
              "      <td>75</td>\n",
              "      <td>75</td>\n",
              "      <td>18.1</td>\n",
              "      <td>28</td>\n",
              "      <td>4509</td>\n",
              "      <td>99</td>\n",
              "    </tr>\n",
              "  </tbody>\n",
              "</table>\n",
              "<p>777 rows × 18 columns</p>\n",
              "</div>"
            ],
            "text/plain": [
              "                               Private   Apps  ...  Expend  Grad.Rate\n",
              "Abilene Christian University       Yes   1660  ...    7041         60\n",
              "Adelphi University                 Yes   2186  ...   10527         56\n",
              "Adrian College                     Yes   1428  ...    8735         54\n",
              "Agnes Scott College                Yes    417  ...   19016         59\n",
              "Alaska Pacific University          Yes    193  ...   10922         15\n",
              "...                                ...    ...  ...     ...        ...\n",
              "Worcester State College             No   2197  ...    4469         40\n",
              "Xavier University                  Yes   1959  ...    9189         83\n",
              "Xavier University of Louisiana     Yes   2097  ...    8323         49\n",
              "Yale University                    Yes  10705  ...   40386         99\n",
              "York College of Pennsylvania       Yes   2989  ...    4509         99\n",
              "\n",
              "[777 rows x 18 columns]"
            ]
          },
          "metadata": {
            "tags": []
          },
          "execution_count": 68
        }
      ]
    },
    {
      "cell_type": "code",
      "metadata": {
        "colab": {
          "base_uri": "https://localhost:8080/"
        },
        "id": "Bcp4wHBQab5v",
        "outputId": "05a3a56a-0b9d-4ca6-8bc2-5e46ee84fe51"
      },
      "source": [
        "college.isnull().sum()"
      ],
      "id": "Bcp4wHBQab5v",
      "execution_count": 69,
      "outputs": [
        {
          "output_type": "execute_result",
          "data": {
            "text/plain": [
              "Private        0\n",
              "Apps           0\n",
              "Accept         0\n",
              "Enroll         0\n",
              "Top10perc      0\n",
              "Top25perc      0\n",
              "F.Undergrad    0\n",
              "P.Undergrad    0\n",
              "Outstate       0\n",
              "Room.Board     0\n",
              "Books          0\n",
              "Personal       0\n",
              "PhD            0\n",
              "Terminal       0\n",
              "S.F.Ratio      0\n",
              "perc.alumni    0\n",
              "Expend         0\n",
              "Grad.Rate      0\n",
              "dtype: int64"
            ]
          },
          "metadata": {
            "tags": []
          },
          "execution_count": 69
        }
      ]
    },
    {
      "cell_type": "code",
      "metadata": {
        "colab": {
          "base_uri": "https://localhost:8080/",
          "height": 419
        },
        "id": "uLmJmBe9KexN",
        "outputId": "7759b3f5-ae59-4087-adb2-0af565d15c6e"
      },
      "source": [
        "import numpy as np\n",
        "from sklearn.model_selection import train_test_split\n",
        "from sklearn import preprocessing\n",
        "\n",
        "def private_code(string):\n",
        "  if string == \"Yes\":\n",
        "    return 1\n",
        "  else:\n",
        "    return 0\n",
        "\n",
        "college[\"Private_Code\"] = college[\"Private\"].apply(private_code)\n",
        "college\n"
      ],
      "id": "uLmJmBe9KexN",
      "execution_count": 72,
      "outputs": [
        {
          "output_type": "execute_result",
          "data": {
            "text/html": [
              "<div>\n",
              "<style scoped>\n",
              "    .dataframe tbody tr th:only-of-type {\n",
              "        vertical-align: middle;\n",
              "    }\n",
              "\n",
              "    .dataframe tbody tr th {\n",
              "        vertical-align: top;\n",
              "    }\n",
              "\n",
              "    .dataframe thead th {\n",
              "        text-align: right;\n",
              "    }\n",
              "</style>\n",
              "<table border=\"1\" class=\"dataframe\">\n",
              "  <thead>\n",
              "    <tr style=\"text-align: right;\">\n",
              "      <th></th>\n",
              "      <th>Private</th>\n",
              "      <th>Apps</th>\n",
              "      <th>Accept</th>\n",
              "      <th>Enroll</th>\n",
              "      <th>Top10perc</th>\n",
              "      <th>Top25perc</th>\n",
              "      <th>F.Undergrad</th>\n",
              "      <th>P.Undergrad</th>\n",
              "      <th>Outstate</th>\n",
              "      <th>Room.Board</th>\n",
              "      <th>Books</th>\n",
              "      <th>Personal</th>\n",
              "      <th>PhD</th>\n",
              "      <th>Terminal</th>\n",
              "      <th>S.F.Ratio</th>\n",
              "      <th>perc.alumni</th>\n",
              "      <th>Expend</th>\n",
              "      <th>Grad.Rate</th>\n",
              "      <th>Private_Code</th>\n",
              "    </tr>\n",
              "  </thead>\n",
              "  <tbody>\n",
              "    <tr>\n",
              "      <th>Abilene Christian University</th>\n",
              "      <td>Yes</td>\n",
              "      <td>1660</td>\n",
              "      <td>1232</td>\n",
              "      <td>721</td>\n",
              "      <td>23</td>\n",
              "      <td>52</td>\n",
              "      <td>2885</td>\n",
              "      <td>537</td>\n",
              "      <td>7440</td>\n",
              "      <td>3300</td>\n",
              "      <td>450</td>\n",
              "      <td>2200</td>\n",
              "      <td>70</td>\n",
              "      <td>78</td>\n",
              "      <td>18.1</td>\n",
              "      <td>12</td>\n",
              "      <td>7041</td>\n",
              "      <td>60</td>\n",
              "      <td>1</td>\n",
              "    </tr>\n",
              "    <tr>\n",
              "      <th>Adelphi University</th>\n",
              "      <td>Yes</td>\n",
              "      <td>2186</td>\n",
              "      <td>1924</td>\n",
              "      <td>512</td>\n",
              "      <td>16</td>\n",
              "      <td>29</td>\n",
              "      <td>2683</td>\n",
              "      <td>1227</td>\n",
              "      <td>12280</td>\n",
              "      <td>6450</td>\n",
              "      <td>750</td>\n",
              "      <td>1500</td>\n",
              "      <td>29</td>\n",
              "      <td>30</td>\n",
              "      <td>12.2</td>\n",
              "      <td>16</td>\n",
              "      <td>10527</td>\n",
              "      <td>56</td>\n",
              "      <td>1</td>\n",
              "    </tr>\n",
              "    <tr>\n",
              "      <th>Adrian College</th>\n",
              "      <td>Yes</td>\n",
              "      <td>1428</td>\n",
              "      <td>1097</td>\n",
              "      <td>336</td>\n",
              "      <td>22</td>\n",
              "      <td>50</td>\n",
              "      <td>1036</td>\n",
              "      <td>99</td>\n",
              "      <td>11250</td>\n",
              "      <td>3750</td>\n",
              "      <td>400</td>\n",
              "      <td>1165</td>\n",
              "      <td>53</td>\n",
              "      <td>66</td>\n",
              "      <td>12.9</td>\n",
              "      <td>30</td>\n",
              "      <td>8735</td>\n",
              "      <td>54</td>\n",
              "      <td>1</td>\n",
              "    </tr>\n",
              "    <tr>\n",
              "      <th>Agnes Scott College</th>\n",
              "      <td>Yes</td>\n",
              "      <td>417</td>\n",
              "      <td>349</td>\n",
              "      <td>137</td>\n",
              "      <td>60</td>\n",
              "      <td>89</td>\n",
              "      <td>510</td>\n",
              "      <td>63</td>\n",
              "      <td>12960</td>\n",
              "      <td>5450</td>\n",
              "      <td>450</td>\n",
              "      <td>875</td>\n",
              "      <td>92</td>\n",
              "      <td>97</td>\n",
              "      <td>7.7</td>\n",
              "      <td>37</td>\n",
              "      <td>19016</td>\n",
              "      <td>59</td>\n",
              "      <td>1</td>\n",
              "    </tr>\n",
              "    <tr>\n",
              "      <th>Alaska Pacific University</th>\n",
              "      <td>Yes</td>\n",
              "      <td>193</td>\n",
              "      <td>146</td>\n",
              "      <td>55</td>\n",
              "      <td>16</td>\n",
              "      <td>44</td>\n",
              "      <td>249</td>\n",
              "      <td>869</td>\n",
              "      <td>7560</td>\n",
              "      <td>4120</td>\n",
              "      <td>800</td>\n",
              "      <td>1500</td>\n",
              "      <td>76</td>\n",
              "      <td>72</td>\n",
              "      <td>11.9</td>\n",
              "      <td>2</td>\n",
              "      <td>10922</td>\n",
              "      <td>15</td>\n",
              "      <td>1</td>\n",
              "    </tr>\n",
              "    <tr>\n",
              "      <th>...</th>\n",
              "      <td>...</td>\n",
              "      <td>...</td>\n",
              "      <td>...</td>\n",
              "      <td>...</td>\n",
              "      <td>...</td>\n",
              "      <td>...</td>\n",
              "      <td>...</td>\n",
              "      <td>...</td>\n",
              "      <td>...</td>\n",
              "      <td>...</td>\n",
              "      <td>...</td>\n",
              "      <td>...</td>\n",
              "      <td>...</td>\n",
              "      <td>...</td>\n",
              "      <td>...</td>\n",
              "      <td>...</td>\n",
              "      <td>...</td>\n",
              "      <td>...</td>\n",
              "      <td>...</td>\n",
              "    </tr>\n",
              "    <tr>\n",
              "      <th>Worcester State College</th>\n",
              "      <td>No</td>\n",
              "      <td>2197</td>\n",
              "      <td>1515</td>\n",
              "      <td>543</td>\n",
              "      <td>4</td>\n",
              "      <td>26</td>\n",
              "      <td>3089</td>\n",
              "      <td>2029</td>\n",
              "      <td>6797</td>\n",
              "      <td>3900</td>\n",
              "      <td>500</td>\n",
              "      <td>1200</td>\n",
              "      <td>60</td>\n",
              "      <td>60</td>\n",
              "      <td>21.0</td>\n",
              "      <td>14</td>\n",
              "      <td>4469</td>\n",
              "      <td>40</td>\n",
              "      <td>0</td>\n",
              "    </tr>\n",
              "    <tr>\n",
              "      <th>Xavier University</th>\n",
              "      <td>Yes</td>\n",
              "      <td>1959</td>\n",
              "      <td>1805</td>\n",
              "      <td>695</td>\n",
              "      <td>24</td>\n",
              "      <td>47</td>\n",
              "      <td>2849</td>\n",
              "      <td>1107</td>\n",
              "      <td>11520</td>\n",
              "      <td>4960</td>\n",
              "      <td>600</td>\n",
              "      <td>1250</td>\n",
              "      <td>73</td>\n",
              "      <td>75</td>\n",
              "      <td>13.3</td>\n",
              "      <td>31</td>\n",
              "      <td>9189</td>\n",
              "      <td>83</td>\n",
              "      <td>1</td>\n",
              "    </tr>\n",
              "    <tr>\n",
              "      <th>Xavier University of Louisiana</th>\n",
              "      <td>Yes</td>\n",
              "      <td>2097</td>\n",
              "      <td>1915</td>\n",
              "      <td>695</td>\n",
              "      <td>34</td>\n",
              "      <td>61</td>\n",
              "      <td>2793</td>\n",
              "      <td>166</td>\n",
              "      <td>6900</td>\n",
              "      <td>4200</td>\n",
              "      <td>617</td>\n",
              "      <td>781</td>\n",
              "      <td>67</td>\n",
              "      <td>75</td>\n",
              "      <td>14.4</td>\n",
              "      <td>20</td>\n",
              "      <td>8323</td>\n",
              "      <td>49</td>\n",
              "      <td>1</td>\n",
              "    </tr>\n",
              "    <tr>\n",
              "      <th>Yale University</th>\n",
              "      <td>Yes</td>\n",
              "      <td>10705</td>\n",
              "      <td>2453</td>\n",
              "      <td>1317</td>\n",
              "      <td>95</td>\n",
              "      <td>99</td>\n",
              "      <td>5217</td>\n",
              "      <td>83</td>\n",
              "      <td>19840</td>\n",
              "      <td>6510</td>\n",
              "      <td>630</td>\n",
              "      <td>2115</td>\n",
              "      <td>96</td>\n",
              "      <td>96</td>\n",
              "      <td>5.8</td>\n",
              "      <td>49</td>\n",
              "      <td>40386</td>\n",
              "      <td>99</td>\n",
              "      <td>1</td>\n",
              "    </tr>\n",
              "    <tr>\n",
              "      <th>York College of Pennsylvania</th>\n",
              "      <td>Yes</td>\n",
              "      <td>2989</td>\n",
              "      <td>1855</td>\n",
              "      <td>691</td>\n",
              "      <td>28</td>\n",
              "      <td>63</td>\n",
              "      <td>2988</td>\n",
              "      <td>1726</td>\n",
              "      <td>4990</td>\n",
              "      <td>3560</td>\n",
              "      <td>500</td>\n",
              "      <td>1250</td>\n",
              "      <td>75</td>\n",
              "      <td>75</td>\n",
              "      <td>18.1</td>\n",
              "      <td>28</td>\n",
              "      <td>4509</td>\n",
              "      <td>99</td>\n",
              "      <td>1</td>\n",
              "    </tr>\n",
              "  </tbody>\n",
              "</table>\n",
              "<p>777 rows × 19 columns</p>\n",
              "</div>"
            ],
            "text/plain": [
              "                               Private   Apps  ...  Grad.Rate  Private_Code\n",
              "Abilene Christian University       Yes   1660  ...         60             1\n",
              "Adelphi University                 Yes   2186  ...         56             1\n",
              "Adrian College                     Yes   1428  ...         54             1\n",
              "Agnes Scott College                Yes    417  ...         59             1\n",
              "Alaska Pacific University          Yes    193  ...         15             1\n",
              "...                                ...    ...  ...        ...           ...\n",
              "Worcester State College             No   2197  ...         40             0\n",
              "Xavier University                  Yes   1959  ...         83             1\n",
              "Xavier University of Louisiana     Yes   2097  ...         49             1\n",
              "Yale University                    Yes  10705  ...         99             1\n",
              "York College of Pennsylvania       Yes   2989  ...         99             1\n",
              "\n",
              "[777 rows x 19 columns]"
            ]
          },
          "metadata": {
            "tags": []
          },
          "execution_count": 72
        }
      ]
    },
    {
      "cell_type": "code",
      "metadata": {
        "id": "iOawo3cyb17E"
      },
      "source": [
        "X1 = college.drop([\"Apps\",\"Private\"], axis=1)\n",
        "scaler = preprocessing.StandardScaler().fit(X1)\n",
        "X_scaled1 = scaler.transform(X1)\n",
        "y1 = college[\"Apps\"]\n",
        "X_train1, X_test1, y_train1, y_test1 = train_test_split(X_scaled1, y1, test_size = 0.2, random_state=10)"
      ],
      "id": "iOawo3cyb17E",
      "execution_count": 83,
      "outputs": []
    },
    {
      "cell_type": "markdown",
      "metadata": {
        "id": "FxAld8z2cvnq"
      },
      "source": [
        "2b. Fit a linear model using least squares on the training set and report\n",
        "the test error obtained."
      ],
      "id": "FxAld8z2cvnq"
    },
    {
      "cell_type": "code",
      "metadata": {
        "colab": {
          "base_uri": "https://localhost:8080/"
        },
        "id": "5JS0U0ANcl5k",
        "outputId": "f09b1a55-8bb0-4690-a2d8-e798b64c837f"
      },
      "source": [
        "from sklearn.linear_model import LogisticRegression\n",
        "from sklearn import linear_model\n",
        "logreg = LogisticRegression(fit_intercept=True, max_iter=1000)\n",
        "logreg.fit(X_train1, y_train1)\n",
        "\n",
        "y_pred1=logreg.predict(X_test1)\n",
        "\n",
        "from sklearn.metrics import mean_squared_error\n",
        "\n",
        "mean_squared_error(y_test1, y_pred1)"
      ],
      "id": "5JS0U0ANcl5k",
      "execution_count": 86,
      "outputs": [
        {
          "output_type": "execute_result",
          "data": {
            "text/plain": [
              "3172719.2115384615"
            ]
          },
          "metadata": {
            "tags": []
          },
          "execution_count": 86
        }
      ]
    },
    {
      "cell_type": "code",
      "metadata": {
        "id": "n-AIsTptdKGZ"
      },
      "source": [
        ""
      ],
      "id": "n-AIsTptdKGZ",
      "execution_count": null,
      "outputs": []
    }
  ]
}